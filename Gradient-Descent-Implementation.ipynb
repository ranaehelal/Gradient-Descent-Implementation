{
 "cells": [
  {
   "metadata": {},
   "cell_type": "markdown",
   "source": [
    "# Generate synthetic data\n",
    " ##### ( 1000 samples, 2 features, and binary classification)\n"
   ],
   "id": "b195b8c9e786070"
  },
  {
   "cell_type": "code",
   "id": "initial_id",
   "metadata": {
    "collapsed": true,
    "ExecuteTime": {
     "end_time": "2024-11-09T19:04:24.901096Z",
     "start_time": "2024-11-09T19:04:24.894624Z"
    }
   },
   "source": [
    "from sklearn.datasets import make_classification, make_regression\n",
    "\n",
    "X, y = make_regression(n_samples=1000, n_features=3, noise=0.1)\n"
   ],
   "outputs": [],
   "execution_count": 153
  },
  {
   "metadata": {},
   "cell_type": "markdown",
   "source": "##### Split the data into (Train & Test)",
   "id": "ce29c57a547b2d27"
  },
  {
   "metadata": {
    "ExecuteTime": {
     "end_time": "2024-11-09T19:04:24.941476Z",
     "start_time": "2024-11-09T19:04:24.922565Z"
    }
   },
   "cell_type": "code",
   "source": [
    "from sklearn.model_selection import train_test_split\n",
    "\n",
    "X_train, X_test, y_train, y_test = train_test_split(X, y, test_size=0.2, random_state=42)\n"
   ],
   "id": "4cafb5b652d84ffc",
   "outputs": [],
   "execution_count": 154
  },
  {
   "metadata": {},
   "cell_type": "markdown",
   "source": "#### Randomly initialize the weights vector\n",
   "id": "ae604e4826ed506b"
  },
  {
   "metadata": {
    "ExecuteTime": {
     "end_time": "2024-11-09T19:04:24.950175Z",
     "start_time": "2024-11-09T19:04:24.943468Z"
    }
   },
   "cell_type": "code",
   "source": [
    "import numpy as np\n",
    "weights = np.random.randn(X_train.shape[1])\n"
   ],
   "id": "26ab24eed715443f",
   "outputs": [],
   "execution_count": 155
  },
  {
   "metadata": {},
   "cell_type": "markdown",
   "source": "## loss function   ",
   "id": "962a0797129cc775"
  },
  {
   "metadata": {
    "ExecuteTime": {
     "end_time": "2024-11-09T19:04:24.960181Z",
     "start_time": "2024-11-09T19:04:24.952168Z"
    }
   },
   "cell_type": "code",
   "source": [
    "def compute_loss (X, y,weights):\n",
    "    N =len(y)\n",
    "    predictions = np.dot(X,weights)    \n",
    "    loss = np.sum((y - predictions) ** 2) / (2 * N)  \n",
    "    return loss"
   ],
   "id": "92a91bba79e13b13",
   "outputs": [],
   "execution_count": 156
  },
  {
   "metadata": {},
   "cell_type": "markdown",
   "source": "### gradient descent function",
   "id": "659886b81f759581"
  },
  {
   "metadata": {
    "ExecuteTime": {
     "end_time": "2024-11-09T19:04:24.970151Z",
     "start_time": "2024-11-09T19:04:24.962167Z"
    }
   },
   "cell_type": "code",
   "source": [
    "def gradient_descent (X, y, weights,iterations,learning_rate):\n",
    "    N =len(y)\n",
    "    for i in range(iterations):\n",
    "        predictions = np.dot(X,weights)    \n",
    "        derivative =np.dot (X.T,(y-predictions))/N\n",
    "        weights = weights - learning_rate * derivative\n",
    "        loss = compute_loss(X, y, weights)\n",
    "\n",
    "        if i % 10 == 0:\n",
    "            print(f\"Iteration {i}: Loss = {loss}\")\n",
    "\n",
    "        \n",
    "                    \n",
    "    return weights\n",
    "\n",
    "                \n",
    "    "
   ],
   "id": "6ca46d520e5b336b",
   "outputs": [],
   "execution_count": 157
  },
  {
   "metadata": {
    "ExecuteTime": {
     "end_time": "2024-11-09T19:04:24.985125Z",
     "start_time": "2024-11-09T19:04:24.971147Z"
    }
   },
   "cell_type": "code",
   "source": [
    "learning_rate = 0.001\n",
    "iterations = 100\n",
    "updated_weights = gradient_descent(X_train, y_train, weights, iterations,learning_rate)"
   ],
   "id": "5f389248aca20379",
   "outputs": [
    {
     "name": "stdout",
     "output_type": "stream",
     "text": [
      "Iteration 0: Loss = 1708.426487488952\n",
      "Iteration 10: Loss = 1742.8779502125014\n",
      "Iteration 20: Loss = 1778.0272742589782\n",
      "Iteration 30: Loss = 1813.8886611231655\n",
      "Iteration 40: Loss = 1850.4766026619418\n",
      "Iteration 50: Loss = 1887.8058870592126\n",
      "Iteration 60: Loss = 1925.891604913961\n",
      "Iteration 70: Loss = 1964.749155453976\n",
      "Iteration 80: Loss = 2004.3942528778564\n",
      "Iteration 90: Loss = 2044.8429328279599\n"
     ]
    }
   ],
   "execution_count": 158
  },
  {
   "metadata": {},
   "cell_type": "markdown",
   "source": "### predict the output of the test data ",
   "id": "7d5bc27ec8764646"
  },
  {
   "metadata": {
    "ExecuteTime": {
     "end_time": "2024-11-09T19:04:24.992451Z",
     "start_time": "2024-11-09T19:04:24.986188Z"
    }
   },
   "cell_type": "code",
   "source": [
    "predictions = np.dot(X_test, updated_weights)\n",
    "print(predictions)\n",
    "\n"
   ],
   "id": "4bcbc5a69e2af0dd",
   "outputs": [
    {
     "name": "stdout",
     "output_type": "stream",
     "text": [
      "[ 1.66974243e+00  1.65421809e+00  2.56255119e+00  1.37797180e+01\n",
      " -7.33540427e-01  8.10308218e+00  6.89239234e+00  8.76063058e+00\n",
      "  1.03329589e+00  7.21202360e-01 -2.75472470e+00  4.13139117e+00\n",
      "  2.32379957e+00 -2.97619819e+00  1.87222590e+00 -7.34043324e+00\n",
      "  1.18261730e+00  3.38240163e+00 -8.18292455e+00 -1.26214602e+01\n",
      " -1.35436183e+01 -3.73556634e+00 -5.37697091e+00 -2.03098548e+00\n",
      "  1.76651457e+00 -9.45529842e+00  6.46831903e+00  3.65131838e+00\n",
      " -5.64435105e+00  1.67457477e+00 -3.82900980e+00  4.79243746e+00\n",
      " -1.02744554e+00 -7.28804435e+00  3.46189878e+00 -2.52840105e+00\n",
      " -8.70225117e+00 -8.73743767e+00 -1.37941433e+00  3.30651781e-01\n",
      " -5.77166438e-01  8.21126389e-01 -5.95917641e+00  9.97631567e+00\n",
      " -2.53741982e+00  1.30849632e+01  2.14395655e+00  1.74234192e+00\n",
      " -7.08713626e+00  1.74525523e+00 -6.71480076e+00  2.07341654e+00\n",
      " -4.63069331e+00 -2.23141189e+00 -2.33255026e+00  1.97706555e+00\n",
      " -9.95826581e-01  8.82379436e-01  4.34477236e+00 -3.17879652e+00\n",
      " -3.51558644e+00  4.30878802e+00 -5.24020524e+00  5.03065770e+00\n",
      "  1.05112334e+01 -1.07761912e+01  1.00607600e+00  4.02418169e+00\n",
      "  7.98337988e-01 -9.64934806e+00  1.56698311e+00  1.06108252e+01\n",
      " -7.38289476e+00  3.43250968e-01 -2.98149965e+00 -2.12018240e+00\n",
      " -2.56708477e+00 -9.75474639e-03  5.56030902e-01 -2.43296160e+00\n",
      " -9.37163183e+00  9.82244052e-01  6.53600122e+00  6.65409363e+00\n",
      "  1.26993355e+00  8.69203682e+00  1.10703219e+00  1.50244487e+00\n",
      " -6.41948246e+00  8.00377520e+00 -8.49003438e+00  5.56701057e-01\n",
      " -5.95293715e+00  4.84427142e+00 -2.59889039e+00  4.65928283e+00\n",
      "  5.11056510e-01  2.00956643e+00  1.60216766e+01 -7.91008153e+00\n",
      " -5.74721653e+00  8.33626300e+00 -9.44257333e-01  1.20495615e+00\n",
      "  4.33764781e+00 -1.37667730e+00 -6.61738163e+00 -5.94233480e+00\n",
      " -9.35886997e-02 -1.06540680e+01  2.60611640e+00  4.72888226e+00\n",
      "  2.58288799e+00  5.75761294e+00 -5.90831986e+00 -1.78908416e+00\n",
      " -4.16686963e+00  3.99052335e+00 -1.04484804e+00  3.37790866e-01\n",
      " -7.19717738e+00  3.83745334e+00  8.68983915e-01 -1.97624210e+00\n",
      "  7.87829503e+00 -7.88899570e-01 -9.15051274e+00 -8.83762443e+00\n",
      " -8.16960044e-02 -1.71221185e+00  5.56580669e+00 -5.37348825e+00\n",
      " -3.18022776e-01 -5.66789998e+00 -2.00822336e+00 -3.38839268e+00\n",
      " -2.64819237e+00 -5.58405775e+00 -5.74413630e+00  6.60597380e+00\n",
      "  2.18422460e+00 -1.68106361e+00  4.66182823e+00 -3.35737492e+00\n",
      "  2.28525617e+00 -2.13512800e-01  8.00320816e+00 -3.20538199e-02\n",
      " -3.45608221e+00 -1.04636215e+01  8.50775058e-01 -8.05177704e+00\n",
      " -5.41730124e+00  3.54730039e+00  6.90011022e+00 -5.22343662e+00\n",
      " -1.80693370e+00 -4.20843135e+00 -5.32222319e-01 -8.15685829e-02\n",
      " -1.18270026e+01 -6.68217715e+00 -2.35653935e+00 -3.64138609e+00\n",
      "  8.75520599e+00  3.72642698e+00  5.89916753e+00  3.03996610e+00\n",
      " -3.93585557e+00  4.09505901e+00  5.96035977e+00 -2.99097614e+00\n",
      "  6.04621759e+00  3.55855593e+00  5.70317405e+00  6.03218888e+00\n",
      " -8.50737508e+00  7.42480875e+00  3.37659663e+00  2.15511233e+00\n",
      " -2.45626521e+00  6.89232881e-01  1.18897425e+01  2.44377996e+00\n",
      " -2.16660234e+00 -2.81134382e+00  1.37108364e+00  1.87947541e+00\n",
      "  1.07934010e+01  1.36013631e+01 -1.00080620e-01  8.80648898e+00\n",
      "  6.19197460e+00 -6.68066036e+00 -2.20083472e+00 -1.54830628e+00\n",
      " -4.47727098e+00 -4.80414255e+00 -9.63483112e-01  2.49130694e+00]\n"
     ]
    }
   ],
   "execution_count": 159
  },
  {
   "metadata": {},
   "cell_type": "markdown",
   "source": "#### alculating the MSE/MAE for the test data",
   "id": "cee5a6399b078d44"
  },
  {
   "metadata": {
    "ExecuteTime": {
     "end_time": "2024-11-09T19:04:25.002423Z",
     "start_time": "2024-11-09T19:04:24.994444Z"
    }
   },
   "cell_type": "code",
   "source": [
    "mse = np.mean((y_test - predictions) ** 2)\n",
    "print(f\"Mean Squared Error on Test Data: {mse}\")\n",
    "\n",
    "mae = np.mean(np.abs(y_test - predictions))\n",
    "print(f\"Mean Absolute Error on Test Data: {mae}\")\n"
   ],
   "id": "748f5fe0cd10ecc8",
   "outputs": [
    {
     "name": "stdout",
     "output_type": "stream",
     "text": [
      "Mean Squared Error on Test Data: 4103.083054936307\n",
      "Mean Absolute Error on Test Data: 49.20649441581108\n"
     ]
    }
   ],
   "execution_count": 160
  }
 ],
 "metadata": {
  "kernelspec": {
   "display_name": "Python 3",
   "language": "python",
   "name": "python3"
  },
  "language_info": {
   "codemirror_mode": {
    "name": "ipython",
    "version": 2
   },
   "file_extension": ".py",
   "mimetype": "text/x-python",
   "name": "python",
   "nbconvert_exporter": "python",
   "pygments_lexer": "ipython2",
   "version": "2.7.6"
  }
 },
 "nbformat": 4,
 "nbformat_minor": 5
}
